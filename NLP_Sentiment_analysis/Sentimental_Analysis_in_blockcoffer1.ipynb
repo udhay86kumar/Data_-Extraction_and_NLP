{
  "nbformat": 4,
  "nbformat_minor": 0,
  "metadata": {
    "colab": {
      "provenance": []
    },
    "kernelspec": {
      "name": "python3",
      "display_name": "Python 3"
    },
    "language_info": {
      "name": "python"
    }
  },
  "cells": [
    {
      "cell_type": "code",
      "execution_count": null,
      "metadata": {
        "id": "bXnKks7azdET"
      },
      "outputs": [],
      "source": [
        "import nltk\n",
        "from bs4 import BeautifulSoup as bs\n",
        "import requests\n",
        "import pandas as pd\n",
        "import csv"
      ]
    },
    {
      "cell_type": "code",
      "source": [
        "input = pd.read_excel('Input.xlsx')\n",
        "input.head()"
      ],
      "metadata": {
        "colab": {
          "base_uri": "https://localhost:8080/",
          "height": 206
        },
        "id": "7LZ9YxNAzsF6",
        "outputId": "cad170d9-25df-44d0-f367-2568ade37887"
      },
      "execution_count": null,
      "outputs": [
        {
          "output_type": "execute_result",
          "data": {
            "text/plain": [
              "   URL_ID                                                URL\n",
              "0   123.0  https://insights.blackcoffer.com/rise-of-telem...\n",
              "1   321.0  https://insights.blackcoffer.com/rise-of-e-hea...\n",
              "2  2345.0  https://insights.blackcoffer.com/rise-of-e-hea...\n",
              "3  4321.0  https://insights.blackcoffer.com/rise-of-telem...\n",
              "4   432.0  https://insights.blackcoffer.com/rise-of-telem..."
            ],
            "text/html": [
              "\n",
              "  <div id=\"df-d4e9defa-df7d-43bf-bb10-b25dd4af4319\" class=\"colab-df-container\">\n",
              "    <div>\n",
              "<style scoped>\n",
              "    .dataframe tbody tr th:only-of-type {\n",
              "        vertical-align: middle;\n",
              "    }\n",
              "\n",
              "    .dataframe tbody tr th {\n",
              "        vertical-align: top;\n",
              "    }\n",
              "\n",
              "    .dataframe thead th {\n",
              "        text-align: right;\n",
              "    }\n",
              "</style>\n",
              "<table border=\"1\" class=\"dataframe\">\n",
              "  <thead>\n",
              "    <tr style=\"text-align: right;\">\n",
              "      <th></th>\n",
              "      <th>URL_ID</th>\n",
              "      <th>URL</th>\n",
              "    </tr>\n",
              "  </thead>\n",
              "  <tbody>\n",
              "    <tr>\n",
              "      <th>0</th>\n",
              "      <td>123.0</td>\n",
              "      <td>https://insights.blackcoffer.com/rise-of-telem...</td>\n",
              "    </tr>\n",
              "    <tr>\n",
              "      <th>1</th>\n",
              "      <td>321.0</td>\n",
              "      <td>https://insights.blackcoffer.com/rise-of-e-hea...</td>\n",
              "    </tr>\n",
              "    <tr>\n",
              "      <th>2</th>\n",
              "      <td>2345.0</td>\n",
              "      <td>https://insights.blackcoffer.com/rise-of-e-hea...</td>\n",
              "    </tr>\n",
              "    <tr>\n",
              "      <th>3</th>\n",
              "      <td>4321.0</td>\n",
              "      <td>https://insights.blackcoffer.com/rise-of-telem...</td>\n",
              "    </tr>\n",
              "    <tr>\n",
              "      <th>4</th>\n",
              "      <td>432.0</td>\n",
              "      <td>https://insights.blackcoffer.com/rise-of-telem...</td>\n",
              "    </tr>\n",
              "  </tbody>\n",
              "</table>\n",
              "</div>\n",
              "    <div class=\"colab-df-buttons\">\n",
              "\n",
              "  <div class=\"colab-df-container\">\n",
              "    <button class=\"colab-df-convert\" onclick=\"convertToInteractive('df-d4e9defa-df7d-43bf-bb10-b25dd4af4319')\"\n",
              "            title=\"Convert this dataframe to an interactive table.\"\n",
              "            style=\"display:none;\">\n",
              "\n",
              "  <svg xmlns=\"http://www.w3.org/2000/svg\" height=\"24px\" viewBox=\"0 -960 960 960\">\n",
              "    <path d=\"M120-120v-720h720v720H120Zm60-500h600v-160H180v160Zm220 220h160v-160H400v160Zm0 220h160v-160H400v160ZM180-400h160v-160H180v160Zm440 0h160v-160H620v160ZM180-180h160v-160H180v160Zm440 0h160v-160H620v160Z\"/>\n",
              "  </svg>\n",
              "    </button>\n",
              "\n",
              "  <style>\n",
              "    .colab-df-container {\n",
              "      display:flex;\n",
              "      gap: 12px;\n",
              "    }\n",
              "\n",
              "    .colab-df-convert {\n",
              "      background-color: #E8F0FE;\n",
              "      border: none;\n",
              "      border-radius: 50%;\n",
              "      cursor: pointer;\n",
              "      display: none;\n",
              "      fill: #1967D2;\n",
              "      height: 32px;\n",
              "      padding: 0 0 0 0;\n",
              "      width: 32px;\n",
              "    }\n",
              "\n",
              "    .colab-df-convert:hover {\n",
              "      background-color: #E2EBFA;\n",
              "      box-shadow: 0px 1px 2px rgba(60, 64, 67, 0.3), 0px 1px 3px 1px rgba(60, 64, 67, 0.15);\n",
              "      fill: #174EA6;\n",
              "    }\n",
              "\n",
              "    .colab-df-buttons div {\n",
              "      margin-bottom: 4px;\n",
              "    }\n",
              "\n",
              "    [theme=dark] .colab-df-convert {\n",
              "      background-color: #3B4455;\n",
              "      fill: #D2E3FC;\n",
              "    }\n",
              "\n",
              "    [theme=dark] .colab-df-convert:hover {\n",
              "      background-color: #434B5C;\n",
              "      box-shadow: 0px 1px 3px 1px rgba(0, 0, 0, 0.15);\n",
              "      filter: drop-shadow(0px 1px 2px rgba(0, 0, 0, 0.3));\n",
              "      fill: #FFFFFF;\n",
              "    }\n",
              "  </style>\n",
              "\n",
              "    <script>\n",
              "      const buttonEl =\n",
              "        document.querySelector('#df-d4e9defa-df7d-43bf-bb10-b25dd4af4319 button.colab-df-convert');\n",
              "      buttonEl.style.display =\n",
              "        google.colab.kernel.accessAllowed ? 'block' : 'none';\n",
              "\n",
              "      async function convertToInteractive(key) {\n",
              "        const element = document.querySelector('#df-d4e9defa-df7d-43bf-bb10-b25dd4af4319');\n",
              "        const dataTable =\n",
              "          await google.colab.kernel.invokeFunction('convertToInteractive',\n",
              "                                                    [key], {});\n",
              "        if (!dataTable) return;\n",
              "\n",
              "        const docLinkHtml = 'Like what you see? Visit the ' +\n",
              "          '<a target=\"_blank\" href=https://colab.research.google.com/notebooks/data_table.ipynb>data table notebook</a>'\n",
              "          + ' to learn more about interactive tables.';\n",
              "        element.innerHTML = '';\n",
              "        dataTable['output_type'] = 'display_data';\n",
              "        await google.colab.output.renderOutput(dataTable, element);\n",
              "        const docLink = document.createElement('div');\n",
              "        docLink.innerHTML = docLinkHtml;\n",
              "        element.appendChild(docLink);\n",
              "      }\n",
              "    </script>\n",
              "  </div>\n",
              "\n",
              "\n",
              "<div id=\"df-6c4f0b84-875b-4d55-ac7c-54c05db9ed5e\">\n",
              "  <button class=\"colab-df-quickchart\" onclick=\"quickchart('df-6c4f0b84-875b-4d55-ac7c-54c05db9ed5e')\"\n",
              "            title=\"Suggest charts.\"\n",
              "            style=\"display:none;\">\n",
              "\n",
              "<svg xmlns=\"http://www.w3.org/2000/svg\" height=\"24px\"viewBox=\"0 0 24 24\"\n",
              "     width=\"24px\">\n",
              "    <g>\n",
              "        <path d=\"M19 3H5c-1.1 0-2 .9-2 2v14c0 1.1.9 2 2 2h14c1.1 0 2-.9 2-2V5c0-1.1-.9-2-2-2zM9 17H7v-7h2v7zm4 0h-2V7h2v10zm4 0h-2v-4h2v4z\"/>\n",
              "    </g>\n",
              "</svg>\n",
              "  </button>\n",
              "\n",
              "<style>\n",
              "  .colab-df-quickchart {\n",
              "    background-color: #E8F0FE;\n",
              "    border: none;\n",
              "    border-radius: 50%;\n",
              "    cursor: pointer;\n",
              "    display: none;\n",
              "    fill: #1967D2;\n",
              "    height: 32px;\n",
              "    padding: 0 0 0 0;\n",
              "    width: 32px;\n",
              "  }\n",
              "\n",
              "  .colab-df-quickchart:hover {\n",
              "    background-color: #E2EBFA;\n",
              "    box-shadow: 0px 1px 2px rgba(60, 64, 67, 0.3), 0px 1px 3px 1px rgba(60, 64, 67, 0.15);\n",
              "    fill: #174EA6;\n",
              "  }\n",
              "\n",
              "  [theme=dark] .colab-df-quickchart {\n",
              "    background-color: #3B4455;\n",
              "    fill: #D2E3FC;\n",
              "  }\n",
              "\n",
              "  [theme=dark] .colab-df-quickchart:hover {\n",
              "    background-color: #434B5C;\n",
              "    box-shadow: 0px 1px 3px 1px rgba(0, 0, 0, 0.15);\n",
              "    filter: drop-shadow(0px 1px 2px rgba(0, 0, 0, 0.3));\n",
              "    fill: #FFFFFF;\n",
              "  }\n",
              "</style>\n",
              "\n",
              "  <script>\n",
              "    async function quickchart(key) {\n",
              "      const charts = await google.colab.kernel.invokeFunction(\n",
              "          'suggestCharts', [key], {});\n",
              "    }\n",
              "    (() => {\n",
              "      let quickchartButtonEl =\n",
              "        document.querySelector('#df-6c4f0b84-875b-4d55-ac7c-54c05db9ed5e button');\n",
              "      quickchartButtonEl.style.display =\n",
              "        google.colab.kernel.accessAllowed ? 'block' : 'none';\n",
              "    })();\n",
              "  </script>\n",
              "</div>\n",
              "    </div>\n",
              "  </div>\n"
            ]
          },
          "metadata": {},
          "execution_count": 6
        }
      ]
    },
    {
      "cell_type": "code",
      "source": [
        "def extract_text(link1):\n",
        "  text_list=[]\n",
        "  req = requests.get(link1)\n",
        "  html = bs(req.content,'html.parser')\n",
        "  try:\n",
        "     title = html.h1.text\n",
        "     class1 = html.find_all('div',{'class':\"td-pb-span8 td-main-content\"})\n",
        "     list_text = ''\n",
        "     for i in class1:\n",
        "        text = i.text\n",
        "        list_text += text.strip()\n",
        "  except:\n",
        "    title = 'No Title'\n",
        "    list_text = 'No Text'\n",
        "  dic1 = {'Title':title,\"Text\":list_text}\n",
        "  text_list.append(dic1)\n",
        "  return text_list"
      ],
      "metadata": {
        "id": "vfnoSVdgzsNP"
      },
      "execution_count": null,
      "outputs": []
    },
    {
      "cell_type": "markdown",
      "source": [],
      "metadata": {
        "id": "O3K6UxFb5ch1"
      }
    },
    {
      "cell_type": "markdown",
      "source": [],
      "metadata": {
        "id": "X19IqIjM5cs-"
      }
    },
    {
      "cell_type": "code",
      "source": [
        "# Extract and store data from multiple links\n",
        "all_data = []\n",
        "for link in input.URL:\n",
        "    extracted_data = extract_text(link)\n",
        "    all_data.extend(extracted_data)  # Extend the list with data from each link\n",
        "\n",
        "# Specify the CSV file path\n",
        "csv_file_path = 'output1.csv'\n",
        "with open(csv_file_path, mode='w', newline='', encoding='utf-8') as csv_file:\n",
        "    fieldnames = ['Title', 'Text']\n",
        "    writer = csv.DictWriter(csv_file, fieldnames=fieldnames)\n",
        "    writer.writeheader()\n",
        "    for item in all_data:\n",
        "        writer.writerow(item)\n",
        "print(f\"Data from {len(input.URL)} links saved to CSV file:\", csv_file_path)"
      ],
      "metadata": {
        "colab": {
          "base_uri": "https://localhost:8080/",
          "height": 252
        },
        "id": "VTrkPXDBl9hh",
        "outputId": "f82686e1-bc06-4e50-9d84-4869a42aa112"
      },
      "execution_count": null,
      "outputs": [
        {
          "output_type": "error",
          "ename": "AttributeError",
          "evalue": "ignored",
          "traceback": [
            "\u001b[0;31m---------------------------------------------------------------------------\u001b[0m",
            "\u001b[0;31mAttributeError\u001b[0m                            Traceback (most recent call last)",
            "\u001b[0;32m<ipython-input-4-021ef854ed27>\u001b[0m in \u001b[0;36m<cell line: 3>\u001b[0;34m()\u001b[0m\n\u001b[1;32m      1\u001b[0m \u001b[0;31m# Extract and store data from multiple links\u001b[0m\u001b[0;34m\u001b[0m\u001b[0;34m\u001b[0m\u001b[0m\n\u001b[1;32m      2\u001b[0m \u001b[0mall_data\u001b[0m \u001b[0;34m=\u001b[0m \u001b[0;34m[\u001b[0m\u001b[0;34m]\u001b[0m\u001b[0;34m\u001b[0m\u001b[0;34m\u001b[0m\u001b[0m\n\u001b[0;32m----> 3\u001b[0;31m \u001b[0;32mfor\u001b[0m \u001b[0mlink\u001b[0m \u001b[0;32min\u001b[0m \u001b[0minput\u001b[0m\u001b[0;34m.\u001b[0m\u001b[0mURL\u001b[0m\u001b[0;34m:\u001b[0m\u001b[0;34m\u001b[0m\u001b[0;34m\u001b[0m\u001b[0m\n\u001b[0m\u001b[1;32m      4\u001b[0m     \u001b[0mextracted_data\u001b[0m \u001b[0;34m=\u001b[0m \u001b[0mextract_text\u001b[0m\u001b[0;34m(\u001b[0m\u001b[0mlink\u001b[0m\u001b[0;34m)\u001b[0m\u001b[0;34m\u001b[0m\u001b[0;34m\u001b[0m\u001b[0m\n\u001b[1;32m      5\u001b[0m     \u001b[0mall_data\u001b[0m\u001b[0;34m.\u001b[0m\u001b[0mextend\u001b[0m\u001b[0;34m(\u001b[0m\u001b[0mextracted_data\u001b[0m\u001b[0;34m)\u001b[0m  \u001b[0;31m# Extend the list with data from each link\u001b[0m\u001b[0;34m\u001b[0m\u001b[0;34m\u001b[0m\u001b[0m\n",
            "\u001b[0;31mAttributeError\u001b[0m: 'function' object has no attribute 'URL'"
          ]
        }
      ]
    },
    {
      "cell_type": "code",
      "source": [
        "df = pd.read_csv('output1.csv')\n",
        "len(df)"
      ],
      "metadata": {
        "colab": {
          "base_uri": "https://localhost:8080/"
        },
        "id": "-DYhQKVgPfPq",
        "outputId": "78dfcd37-38a4-4f8e-ee94-244ef582f179"
      },
      "execution_count": null,
      "outputs": [
        {
          "output_type": "execute_result",
          "data": {
            "text/plain": [
              "114"
            ]
          },
          "metadata": {},
          "execution_count": 5
        }
      ]
    },
    {
      "cell_type": "code",
      "source": [
        "req = requests.get(input.URL[0])\n",
        "html = bs(req.content,'html.parser')\n",
        "title = html.find_all('h1',{'class':'entry-title'})\n",
        "title = title[0].text"
      ],
      "metadata": {
        "id": "Br0DNXEozsRA"
      },
      "execution_count": null,
      "outputs": []
    },
    {
      "cell_type": "code",
      "source": [
        "class1 = html.find_all('div',{'class':\"td-pb-span8 td-main-content\"})\n",
        "list_text = []\n",
        "for i in class1[0].find_all('p'):\n",
        "   list_text.append(i.text)\n",
        "   list_text.insert(0,title)\n",
        "print(list_text)"
      ],
      "metadata": {
        "colab": {
          "base_uri": "https://localhost:8080/"
        },
        "id": "QVssAhyPzsU6",
        "outputId": "ded05c57-8042-417c-86a2-9133ca34a8c3"
      },
      "execution_count": null,
      "outputs": [
        {
          "output_type": "stream",
          "name": "stdout",
          "text": [
            "['Rise of telemedicine and its Impact on Livelihood by 2040', 'Rise of telemedicine and its Impact on Livelihood by 2040', 'Rise of telemedicine and its Impact on Livelihood by 2040', 'Rise of telemedicine and its Impact on Livelihood by 2040', 'Rise of telemedicine and its Impact on Livelihood by 2040', 'Rise of telemedicine and its Impact on Livelihood by 2040', 'Rise of telemedicine and its Impact on Livelihood by 2040', 'Rise of telemedicine and its Impact on Livelihood by 2040', 'Rise of telemedicine and its Impact on Livelihood by 2040', 'Rise of telemedicine and its Impact on Livelihood by 2040', 'Rise of telemedicine and its Impact on Livelihood by 2040', 'Rise of telemedicine and its Impact on Livelihood by 2040', 'Rise of telemedicine and its Impact on Livelihood by 2040', 'Rise of telemedicine and its Impact on Livelihood by 2040', 'Rise of telemedicine and its Impact on Livelihood by 2040', 'Rise of telemedicine and its Impact on Livelihood by 2040', 'Rise of telemedicine and its Impact on Livelihood by 2040', 'Rise of telemedicine and its Impact on Livelihood by 2040', 'Rise of telemedicine and its Impact on Livelihood by 2040', 'Rise of telemedicine and its Impact on Livelihood by 2040', 'Rise of telemedicine and its Impact on Livelihood by 2040', 'Rise of telemedicine and its Impact on Livelihood by 2040', 'Rise of telemedicine and its Impact on Livelihood by 2040', 'Rise of telemedicine and its Impact on Livelihood by 2040', 'Rise of telemedicine and its Impact on Livelihood by 2040', 'Rise of telemedicine and its Impact on Livelihood by 2040', 'Rise of telemedicine and its Impact on Livelihood by 2040', 'Rise of telemedicine and its Impact on Livelihood by 2040', 'Rise of telemedicine and its Impact on Livelihood by 2040', 'Telemedicine, the use of technology to diagnose and treat patients remotely, has been rising in recent years. With the advent of high-speed internet and improved video conferencing tools, healthcare providers are increasingly turning to telemedicine to provide care to patients in remote or underserved areas.', 'Telemedicine, using technology to provide healthcare services remotely, has recently gained popularity. With advancements in communication and medical technology, it has become increasingly possible for doctors and patients to connect and interact from anywhere in the world. This has led to the rise of telemedicine, which has the potential to revolutionize the way healthcare is delivered.#Telemedicine', 'The increasing focus on preventative healthcare has also driven the rise of telemedicine. As more and more people become aware of the importance of staying healthy, they are looking for ways to prevent illness and maintain their health. Telemedicine allows people to monitor their health and get advice from healthcare providers without traveling to a clinic or hospital.', 'Improved access to healthcare: One of the biggest challenges in the healthcare industry is the unequal distribution of medical resources, with many remote and rural areas lacking access to quality care. Telemedicine can help bridge this gap by allowing patients in these underserved areas to connect with healthcare providers worldwide. This can give people access to specialized medical care that they would otherwise not be able to receive, improving their health and overall well-being.#Healthcare', 'Greater convenience and flexibility: Telemedicine also offers a level of convenience and flexibility that is impossible with traditional in-person medical visits. Patients can consult with their healthcare providers from the comfort of their own homes, saving time and money on travel. This is particularly beneficial for individuals who have mobility issues or who live in areas with limited access to medical facilities.', 'Reduced healthcare costs: By enabling patients to receive care remotely, telemedicine can help reduce the overall cost of healthcare. This is because telemedicine visits are generally less expensive than in-person visits and can help prevent the need for more costly interventions, such as hospitalizations. As a result, telemedicine has the potential to make healthcare more affordable for patients and healthcare providers alike.#Costs', 'Enhanced healthcare outcomes: Telemedicine can also improve patients’ quality of care. By allowing healthcare providers to access medical records and other important information remotely, telemedicine can help ensure that patients receive the most appropriate care for their needs. This can lead to better health outcomes and a higher quality of life for patients.#Enhanced', 'More significant job opportunities in the healthcare industry like healthcare sector, including for healthcare providers, support staff, and technology experts. This can provide a boost to local economies and help to reduce unemployment.#Jobs', 'Better care for chronic conditions: Telemedicine can help patients with chronic conditions to manage their health more effectively, allowing them to receive regular check-ups and treatment without the need to travel long distances. This can improve the quality of life for these individuals and reduce the risk of complications from their conditions.', 'Increased flexibility for patients and healthcare providers: Telemedicine allows patients and providers to schedule consultations at times convenient for them, improving the overall flexibility of the healthcare system. This can help to reduce wait times and improve patient satisfaction.', 'Increased accessibility: Telemedicine makes healthcare more accessible to people living in rural and remote areas, who may not have easy access to medical facilities. With telemedicine, patients can consult with doctors and specialists from their homes using their phones, computers, or other devices. This means that more people will be able to get the medical care they need, regardless of where they live.', 'Reduced costs: One of the most significant benefits of telemedicine is that it can reduce healthcare costs. Patients can avoid the costs of travel, accommodation, and time off work associated with in-person visits to the doctor. Telemedicine can also help reduce the cost of medical procedures, as doctors can remotely monitor patients and provide care without needing hospitalization.', 'Improved health outcomes: By providing patients with access to medical care from the comfort of their own homes, telemedicine can help improve their health outcomes. For example, patients with chronic conditions can use telemedicine to manage their symptoms and reduce the risk of complications. Telemedicine can also help prevent the spread of infectious diseases, as patients can receive care without contacting other people.', 'Increased convenience: Telemedicine offers a more convenient option for patients who need medical care. With telemedicine, patients can schedule appointments and consult with doctors at a convenient time without having to take time off work or arrange transportation. This can be especially beneficial for people with busy schedules or mobility issues.', 'Telemedicine, or the use of electronic communication and information technologies to provide healthcare services remotely, has the potential to significantly impact the way we receive and deliver medical care. In the next 20 years, telemedicine will likely become an increasingly important part of our healthcare system, providing numerous benefits and improving the livelihood of many people.', 'The benefits of telemedicine are numerous. For patients, it provides convenient access to medical care without traveling long distances. It also allows for faster diagnosis and treatment and improved continuity of care. For healthcare providers, telemedicine can reduce the strain on already-overburdened healthcare systems and make providing care to patients in remote areas more accessible.', 'The rise of telemedicine will likely significantly impact how we receive medical care in the future. By 2040, it is estimated that telemedicine will be a standard part of the healthcare landscape, with more and more doctors using it to diagnose and treat patients remotely.', 'One of the key drivers of the rise of telemedicine has been the increasing availability of high-speed internet and improved video conferencing tools. In the past, the video and audio quality of telemedicine consultations were often poor, making it difficult for doctors to diagnose and treat patients accurately. However, with faster internet speeds and better video conferencing tools, telemedicine consultations are just as good as in-person visits.', 'Telemedicine makes healthcare more accessible. With telemedicine, patients no longer travel long distances to see a doctor or specialist. Instead, they can receive care from the comfort of their own home. This is particularly beneficial for people living in rural areas, where access to healthcare can be limited.', 'Another factor contributing to the rise of telemedicine is the increasing demand for healthcare services. With the global population growing and people living longer, the need for medical care will only continue to increase. Telemedicine offers a way for healthcare providers to meet this demand by allowing them to provide care to more patients in a shorter amount of time.', 'Another substantial impact of telemedicine is that it can improve patient quality of care. By using technology to connect patients with doctors, telemedicine can help ensure patients receive the best care possible. For example, a doctor can use video conferencing to consult with a specialist or use remote monitoring devices to track a patient’s vital signs. This can help doctors make more informed decisions and provide better treatment.', 'Telemedicine also has the potential to reduce healthcare costs. By allowing patients to receive care from their homes, telemedicine can reduce the need for expensive hospital visits. In addition, telemedicine can help prevent the spread of infectious diseases, reducing healthcare costs by avoiding hospitalization.', 'One of the critical impacts of telemedicine is that it can improve the patient experience. By providing patients with the ability to receive care from the comfort of their own homes, telemedicine can help reduce anxiety and stress. In addition, telemedicine can make it easier for patients to communicate with their doctors and get the answers they need.', 'Another way in which telemedicine will impact people’s livelihoods is by making healthcare more efficient. By allowing doctors to diagnose and treat patients remotely, telemedicine will help reduce the time patients spend waiting to see a doctor. It will also help reduce doctors’ spending on administrative tasks, freeing them up to see more patients and provide better care.', 'One major factor driving the rise of telemedicine is the increasing use of technology in healthcare. With advances in communication and medical technology, it is now possible for doctors and other healthcare providers to remotely diagnose and treat patients using video conferencing, remote monitoring, and other forms of telemedicine. This not only allows for more efficient and convenient healthcare delivery but also enables healthcare providers to offer specialized care to patients who otherwise may not have access to it.', 'Another factor contributing to the rise of telemedicine is the need for improved access to healthcare. Patients may travel long distances in many rural and underserved areas; patients may travel long distances to access medical care. Telemedicine can bridge this gap by allowing patients in these areas to consult with healthcare providers remotely. This not only improves access to healthcare but also reduces the need for patients to travel long distances, saving them time and money.', 'Finally, telemedicine’s rise is also driven by the growing trend of remote work. As more and more people work from home or other remote locations, the need for convenient and accessible healthcare is increasing. Telemedicine allows employees to consult with healthcare providers from their homes, reducing the need for them to take time off work to visit a doctor or other healthcare provider.', 'Overall, the rise of telemedicine by 2040 is a result of a combination of factors, including the increasing use of technology in healthcare, the need for improved access to healthcare, and the growing trend of remote work. As these factors continue to evolve, likely, telemedicine will likely become an increasingly important part of the healthcare landscape.', 'However, the rise of telemedicine is also likely to present some challenges. For example, telemedicine consultations may only be suitable for some medical conditions, and some patients may still need to see a doctor. Additionally, telemedicine may put some jobs at risk, such as receptionists and other administrative staff in healthcare facilities.']\n"
          ]
        }
      ]
    },
    {
      "cell_type": "code",
      "source": [
        "import os\n",
        "import re\n",
        "stopwords =[]\n",
        "stopwords1= []\n",
        "for i in os.listdir():\n",
        "  if i.startswith('Stop'):\n",
        "    with open(i,'r',encoding='latin-1') as fw:\n",
        "        files = fw.readlines()\n",
        "        stopwords += files\n",
        "stopwords = [i.replace('|',\" \").strip( ).split() for i in stopwords]\n",
        "#print(stopwords)\n",
        "stopwords1 = [re.sub('[^a-zA-Z]',' ',j) for i in stopwords for j in i ]\n",
        "print(len(stopwords1))"
      ],
      "metadata": {
        "id": "NEdToyxc6pLW",
        "colab": {
          "base_uri": "https://localhost:8080/"
        },
        "outputId": "2c282496-2eda-4375-dab0-182decdeecec"
      },
      "execution_count": null,
      "outputs": [
        {
          "output_type": "stream",
          "name": "stdout",
          "text": [
            "0\n"
          ]
        }
      ]
    },
    {
      "cell_type": "code",
      "source": [],
      "metadata": {
        "id": "_mx5EhYCZNUF"
      },
      "execution_count": null,
      "outputs": []
    },
    {
      "cell_type": "code",
      "source": [
        "import nltk\n",
        "nltk.download('wordnet')"
      ],
      "metadata": {
        "colab": {
          "base_uri": "https://localhost:8080/"
        },
        "id": "_ZYKamW9Oa2V",
        "outputId": "7384a59f-945f-4447-f14d-cb22de297576"
      },
      "execution_count": null,
      "outputs": [
        {
          "output_type": "stream",
          "name": "stderr",
          "text": [
            "[nltk_data] Downloading package wordnet to /root/nltk_data...\n"
          ]
        },
        {
          "output_type": "execute_result",
          "data": {
            "text/plain": [
              "True"
            ]
          },
          "metadata": {},
          "execution_count": 13
        }
      ]
    },
    {
      "cell_type": "code",
      "source": [
        "import nltk\n",
        "import re\n",
        "from nltk.stem import WordNetLemmatizer ##stemming purpose\n",
        "lem = WordNetLemmatizer()\n",
        "corpus= []\n",
        "for i in range(len(list_text)):\n",
        "  review = re.sub(\"[^a-zA-Z]\",\" \", list_text[i])\n",
        "  review = review.lower().split()\n",
        "  review = [lem.lemmatize(word) for word in review if not word in stopwords1]\n",
        "  review = ' '.join(review)\n",
        "  corpus.append(review)\n",
        "print(corpus)"
      ],
      "metadata": {
        "colab": {
          "base_uri": "https://localhost:8080/"
        },
        "id": "JijT6_TD43b9",
        "outputId": "363838fa-8b4d-48f0-e496-d6fcefcef08a"
      },
      "execution_count": null,
      "outputs": [
        {
          "output_type": "stream",
          "name": "stdout",
          "text": [
            "['rise of telemedicine and it impact on livelihood by', 'rise of telemedicine and it impact on livelihood by', 'rise of telemedicine and it impact on livelihood by', 'rise of telemedicine and it impact on livelihood by', 'rise of telemedicine and it impact on livelihood by', 'rise of telemedicine and it impact on livelihood by', 'rise of telemedicine and it impact on livelihood by', 'rise of telemedicine and it impact on livelihood by', 'rise of telemedicine and it impact on livelihood by', 'rise of telemedicine and it impact on livelihood by', 'rise of telemedicine and it impact on livelihood by', 'rise of telemedicine and it impact on livelihood by', 'rise of telemedicine and it impact on livelihood by', 'rise of telemedicine and it impact on livelihood by', 'rise of telemedicine and it impact on livelihood by', 'rise of telemedicine and it impact on livelihood by', 'rise of telemedicine and it impact on livelihood by', 'rise of telemedicine and it impact on livelihood by', 'rise of telemedicine and it impact on livelihood by', 'rise of telemedicine and it impact on livelihood by', 'rise of telemedicine and it impact on livelihood by', 'rise of telemedicine and it impact on livelihood by', 'rise of telemedicine and it impact on livelihood by', 'rise of telemedicine and it impact on livelihood by', 'rise of telemedicine and it impact on livelihood by', 'rise of telemedicine and it impact on livelihood by', 'rise of telemedicine and it impact on livelihood by', 'rise of telemedicine and it impact on livelihood by', 'rise of telemedicine and it impact on livelihood by', 'telemedicine the use of technology to diagnose and treat patient remotely ha been rising in recent year with the advent of high speed internet and improved video conferencing tool healthcare provider are increasingly turning to telemedicine to provide care to patient in remote or underserved area', 'telemedicine using technology to provide healthcare service remotely ha recently gained popularity with advancement in communication and medical technology it ha become increasingly possible for doctor and patient to connect and interact from anywhere in the world this ha led to the rise of telemedicine which ha the potential to revolutionize the way healthcare is delivered telemedicine', 'the increasing focus on preventative healthcare ha also driven the rise of telemedicine a more and more people become aware of the importance of staying healthy they are looking for way to prevent illness and maintain their health telemedicine allows people to monitor their health and get advice from healthcare provider without traveling to a clinic or hospital', 'improved access to healthcare one of the biggest challenge in the healthcare industry is the unequal distribution of medical resource with many remote and rural area lacking access to quality care telemedicine can help bridge this gap by allowing patient in these underserved area to connect with healthcare provider worldwide this can give people access to specialized medical care that they would otherwise not be able to receive improving their health and overall well being healthcare', 'greater convenience and flexibility telemedicine also offer a level of convenience and flexibility that is impossible with traditional in person medical visit patient can consult with their healthcare provider from the comfort of their own home saving time and money on travel this is particularly beneficial for individual who have mobility issue or who live in area with limited access to medical facility', 'reduced healthcare cost by enabling patient to receive care remotely telemedicine can help reduce the overall cost of healthcare this is because telemedicine visit are generally le expensive than in person visit and can help prevent the need for more costly intervention such a hospitalization a a result telemedicine ha the potential to make healthcare more affordable for patient and healthcare provider alike cost', 'enhanced healthcare outcome telemedicine can also improve patient quality of care by allowing healthcare provider to access medical record and other important information remotely telemedicine can help ensure that patient receive the most appropriate care for their need this can lead to better health outcome and a higher quality of life for patient enhanced', 'more significant job opportunity in the healthcare industry like healthcare sector including for healthcare provider support staff and technology expert this can provide a boost to local economy and help to reduce unemployment job', 'better care for chronic condition telemedicine can help patient with chronic condition to manage their health more effectively allowing them to receive regular check ups and treatment without the need to travel long distance this can improve the quality of life for these individual and reduce the risk of complication from their condition', 'increased flexibility for patient and healthcare provider telemedicine allows patient and provider to schedule consultation at time convenient for them improving the overall flexibility of the healthcare system this can help to reduce wait time and improve patient satisfaction', 'increased accessibility telemedicine make healthcare more accessible to people living in rural and remote area who may not have easy access to medical facility with telemedicine patient can consult with doctor and specialist from their home using their phone computer or other device this mean that more people will be able to get the medical care they need regardless of where they live', 'reduced cost one of the most significant benefit of telemedicine is that it can reduce healthcare cost patient can avoid the cost of travel accommodation and time off work associated with in person visit to the doctor telemedicine can also help reduce the cost of medical procedure a doctor can remotely monitor patient and provide care without needing hospitalization', 'improved health outcome by providing patient with access to medical care from the comfort of their own home telemedicine can help improve their health outcome for example patient with chronic condition can use telemedicine to manage their symptom and reduce the risk of complication telemedicine can also help prevent the spread of infectious disease a patient can receive care without contacting other people', 'increased convenience telemedicine offer a more convenient option for patient who need medical care with telemedicine patient can schedule appointment and consult with doctor at a convenient time without having to take time off work or arrange transportation this can be especially beneficial for people with busy schedule or mobility issue', 'telemedicine or the use of electronic communication and information technology to provide healthcare service remotely ha the potential to significantly impact the way we receive and deliver medical care in the next year telemedicine will likely become an increasingly important part of our healthcare system providing numerous benefit and improving the livelihood of many people', 'the benefit of telemedicine are numerous for patient it provides convenient access to medical care without traveling long distance it also allows for faster diagnosis and treatment and improved continuity of care for healthcare provider telemedicine can reduce the strain on already overburdened healthcare system and make providing care to patient in remote area more accessible', 'the rise of telemedicine will likely significantly impact how we receive medical care in the future by it is estimated that telemedicine will be a standard part of the healthcare landscape with more and more doctor using it to diagnose and treat patient remotely', 'one of the key driver of the rise of telemedicine ha been the increasing availability of high speed internet and improved video conferencing tool in the past the video and audio quality of telemedicine consultation were often poor making it difficult for doctor to diagnose and treat patient accurately however with faster internet speed and better video conferencing tool telemedicine consultation are just a good a in person visit', 'telemedicine make healthcare more accessible with telemedicine patient no longer travel long distance to see a doctor or specialist instead they can receive care from the comfort of their own home this is particularly beneficial for people living in rural area where access to healthcare can be limited', 'another factor contributing to the rise of telemedicine is the increasing demand for healthcare service with the global population growing and people living longer the need for medical care will only continue to increase telemedicine offer a way for healthcare provider to meet this demand by allowing them to provide care to more patient in a shorter amount of time', 'another substantial impact of telemedicine is that it can improve patient quality of care by using technology to connect patient with doctor telemedicine can help ensure patient receive the best care possible for example a doctor can use video conferencing to consult with a specialist or use remote monitoring device to track a patient s vital sign this can help doctor make more informed decision and provide better treatment', 'telemedicine also ha the potential to reduce healthcare cost by allowing patient to receive care from their home telemedicine can reduce the need for expensive hospital visit in addition telemedicine can help prevent the spread of infectious disease reducing healthcare cost by avoiding hospitalization', 'one of the critical impact of telemedicine is that it can improve the patient experience by providing patient with the ability to receive care from the comfort of their own home telemedicine can help reduce anxiety and stress in addition telemedicine can make it easier for patient to communicate with their doctor and get the answer they need', 'another way in which telemedicine will impact people s livelihood is by making healthcare more efficient by allowing doctor to diagnose and treat patient remotely telemedicine will help reduce the time patient spend waiting to see a doctor it will also help reduce doctor spending on administrative task freeing them up to see more patient and provide better care', 'one major factor driving the rise of telemedicine is the increasing use of technology in healthcare with advance in communication and medical technology it is now possible for doctor and other healthcare provider to remotely diagnose and treat patient using video conferencing remote monitoring and other form of telemedicine this not only allows for more efficient and convenient healthcare delivery but also enables healthcare provider to offer specialized care to patient who otherwise may not have access to it', 'another factor contributing to the rise of telemedicine is the need for improved access to healthcare patient may travel long distance in many rural and underserved area patient may travel long distance to access medical care telemedicine can bridge this gap by allowing patient in these area to consult with healthcare provider remotely this not only improves access to healthcare but also reduces the need for patient to travel long distance saving them time and money', 'finally telemedicine s rise is also driven by the growing trend of remote work a more and more people work from home or other remote location the need for convenient and accessible healthcare is increasing telemedicine allows employee to consult with healthcare provider from their home reducing the need for them to take time off work to visit a doctor or other healthcare provider', 'overall the rise of telemedicine by is a result of a combination of factor including the increasing use of technology in healthcare the need for improved access to healthcare and the growing trend of remote work a these factor continue to evolve likely telemedicine will likely become an increasingly important part of the healthcare landscape', 'however the rise of telemedicine is also likely to present some challenge for example telemedicine consultation may only be suitable for some medical condition and some patient may still need to see a doctor additionally telemedicine may put some job at risk such a receptionist and other administrative staff in healthcare facility']\n"
          ]
        }
      ]
    },
    {
      "cell_type": "code",
      "source": [
        "# positive_words\n",
        "def possitive_Words():\n",
        "\n",
        "  for i in os.listdir():\n",
        "      if i.startswith('positive'):\n",
        "            with open(i,'r',encoding='latin-1') as fw:\n",
        "                poss_words = [i.strip() for i in fw.readlines()]\n",
        "  return poss_words"
      ],
      "metadata": {
        "id": "q7tBBJwG21PP"
      },
      "execution_count": null,
      "outputs": []
    },
    {
      "cell_type": "code",
      "source": [
        "def negative_Words():\n",
        "    for i in os.listdir():\n",
        "         if i.startswith('negative'):\n",
        "             with open(i,'r',encoding='latin-1') as fw:\n",
        "                   negative_words = [i.strip() for i in fw.readlines()]\n",
        "    return negative_words"
      ],
      "metadata": {
        "id": "bAiGOZVOJEZB"
      },
      "execution_count": null,
      "outputs": []
    },
    {
      "cell_type": "code",
      "source": [
        "nltk.download('punkt')\n",
        "nltk.download('opinion_lexicon')"
      ],
      "metadata": {
        "colab": {
          "base_uri": "https://localhost:8080/"
        },
        "id": "U98cW8hG9YKI",
        "outputId": "c82cde28-91a4-4af4-b789-3b86f416776a"
      },
      "execution_count": null,
      "outputs": [
        {
          "output_type": "stream",
          "name": "stderr",
          "text": [
            "[nltk_data] Downloading package punkt to /root/nltk_data...\n",
            "[nltk_data]   Unzipping tokenizers/punkt.zip.\n",
            "[nltk_data] Downloading package opinion_lexicon to /root/nltk_data...\n",
            "[nltk_data]   Unzipping corpora/opinion_lexicon.zip.\n"
          ]
        },
        {
          "output_type": "execute_result",
          "data": {
            "text/plain": [
              "True"
            ]
          },
          "metadata": {},
          "execution_count": 15
        }
      ]
    },
    {
      "cell_type": "code",
      "source": [
        "from nltk.tokenize import word_tokenize\n",
        "from nltk.sentiment.util import mark_negation\n",
        "\n",
        "tokens = word_tokenize(''.join(corpus))\n",
        "tokens_marked = mark_negation(tokens)\n",
        "print(tokens_marked)\n",
        "tokens1 = [i for i in tokens if not i in ' ']\n",
        "positive_score = sum(1 for token in tokens1 if token in set(possitive_Words()))\n",
        "negative_score = sum(-1 for token in tokens1 if token in set(negative_Words()))\n",
        "polarity_score = (positive_score - negative_score) / len(tokens)  # Normalize\n",
        "\n",
        "print(\"Positive Score:\", positive_score)\n",
        "print(\"Negative Score:\", negative_score)\n",
        "print(\"Polarity Score:\", polarity_score)\n"
      ],
      "metadata": {
        "id": "XyyiX7_543gt",
        "colab": {
          "base_uri": "https://localhost:8080/"
        },
        "outputId": "5951f851-39c9-42e6-bcb9-55bca2d3c66e"
      },
      "execution_count": null,
      "outputs": [
        {
          "output_type": "stream",
          "name": "stdout",
          "text": [
            "['rise', 'of', 'telemedicine', 'and', 'it', 'impact', 'on', 'livelihood', 'byrise', 'of', 'telemedicine', 'and', 'it', 'impact', 'on', 'livelihood', 'byrise', 'of', 'telemedicine', 'and', 'it', 'impact', 'on', 'livelihood', 'byrise', 'of', 'telemedicine', 'and', 'it', 'impact', 'on', 'livelihood', 'byrise', 'of', 'telemedicine', 'and', 'it', 'impact', 'on', 'livelihood', 'byrise', 'of', 'telemedicine', 'and', 'it', 'impact', 'on', 'livelihood', 'byrise', 'of', 'telemedicine', 'and', 'it', 'impact', 'on', 'livelihood', 'byrise', 'of', 'telemedicine', 'and', 'it', 'impact', 'on', 'livelihood', 'byrise', 'of', 'telemedicine', 'and', 'it', 'impact', 'on', 'livelihood', 'byrise', 'of', 'telemedicine', 'and', 'it', 'impact', 'on', 'livelihood', 'byrise', 'of', 'telemedicine', 'and', 'it', 'impact', 'on', 'livelihood', 'byrise', 'of', 'telemedicine', 'and', 'it', 'impact', 'on', 'livelihood', 'byrise', 'of', 'telemedicine', 'and', 'it', 'impact', 'on', 'livelihood', 'byrise', 'of', 'telemedicine', 'and', 'it', 'impact', 'on', 'livelihood', 'byrise', 'of', 'telemedicine', 'and', 'it', 'impact', 'on', 'livelihood', 'byrise', 'of', 'telemedicine', 'and', 'it', 'impact', 'on', 'livelihood', 'byrise', 'of', 'telemedicine', 'and', 'it', 'impact', 'on', 'livelihood', 'byrise', 'of', 'telemedicine', 'and', 'it', 'impact', 'on', 'livelihood', 'byrise', 'of', 'telemedicine', 'and', 'it', 'impact', 'on', 'livelihood', 'byrise', 'of', 'telemedicine', 'and', 'it', 'impact', 'on', 'livelihood', 'byrise', 'of', 'telemedicine', 'and', 'it', 'impact', 'on', 'livelihood', 'byrise', 'of', 'telemedicine', 'and', 'it', 'impact', 'on', 'livelihood', 'byrise', 'of', 'telemedicine', 'and', 'it', 'impact', 'on', 'livelihood', 'byrise', 'of', 'telemedicine', 'and', 'it', 'impact', 'on', 'livelihood', 'byrise', 'of', 'telemedicine', 'and', 'it', 'impact', 'on', 'livelihood', 'byrise', 'of', 'telemedicine', 'and', 'it', 'impact', 'on', 'livelihood', 'byrise', 'of', 'telemedicine', 'and', 'it', 'impact', 'on', 'livelihood', 'byrise', 'of', 'telemedicine', 'and', 'it', 'impact', 'on', 'livelihood', 'byrise', 'of', 'telemedicine', 'and', 'it', 'impact', 'on', 'livelihood', 'bytelemedicine', 'the', 'use', 'of', 'technology', 'to', 'diagnose', 'and', 'treat', 'patient', 'remotely', 'ha', 'been', 'rising', 'in', 'recent', 'year', 'with', 'the', 'advent', 'of', 'high', 'speed', 'internet', 'and', 'improved', 'video', 'conferencing', 'tool', 'healthcare', 'provider', 'are', 'increasingly', 'turning', 'to', 'telemedicine', 'to', 'provide', 'care', 'to', 'patient', 'in', 'remote', 'or', 'underserved', 'areatelemedicine', 'using', 'technology', 'to', 'provide', 'healthcare', 'service', 'remotely', 'ha', 'recently', 'gained', 'popularity', 'with', 'advancement', 'in', 'communication', 'and', 'medical', 'technology', 'it', 'ha', 'become', 'increasingly', 'possible', 'for', 'doctor', 'and', 'patient', 'to', 'connect', 'and', 'interact', 'from', 'anywhere', 'in', 'the', 'world', 'this', 'ha', 'led', 'to', 'the', 'rise', 'of', 'telemedicine', 'which', 'ha', 'the', 'potential', 'to', 'revolutionize', 'the', 'way', 'healthcare', 'is', 'delivered', 'telemedicinethe', 'increasing', 'focus', 'on', 'preventative', 'healthcare', 'ha', 'also', 'driven', 'the', 'rise', 'of', 'telemedicine', 'a', 'more', 'and', 'more', 'people', 'become', 'aware', 'of', 'the', 'importance', 'of', 'staying', 'healthy', 'they', 'are', 'looking', 'for', 'way', 'to', 'prevent', 'illness', 'and', 'maintain', 'their', 'health', 'telemedicine', 'allows', 'people', 'to', 'monitor', 'their', 'health', 'and', 'get', 'advice', 'from', 'healthcare', 'provider', 'without', 'traveling', 'to', 'a', 'clinic', 'or', 'hospitalimproved', 'access', 'to', 'healthcare', 'one', 'of', 'the', 'biggest', 'challenge', 'in', 'the', 'healthcare', 'industry', 'is', 'the', 'unequal', 'distribution', 'of', 'medical', 'resource', 'with', 'many', 'remote', 'and', 'rural', 'area', 'lacking', 'access', 'to', 'quality', 'care', 'telemedicine', 'can', 'help', 'bridge', 'this', 'gap', 'by', 'allowing', 'patient', 'in', 'these', 'underserved', 'area', 'to', 'connect', 'with', 'healthcare', 'provider', 'worldwide', 'this', 'can', 'give', 'people', 'access', 'to', 'specialized', 'medical', 'care', 'that', 'they', 'would', 'otherwise', 'not', 'be_NEG', 'able_NEG', 'to_NEG', 'receive_NEG', 'improving_NEG', 'their_NEG', 'health_NEG', 'and_NEG', 'overall_NEG', 'well_NEG', 'being_NEG', 'healthcaregreater_NEG', 'convenience_NEG', 'and_NEG', 'flexibility_NEG', 'telemedicine_NEG', 'also_NEG', 'offer_NEG', 'a_NEG', 'level_NEG', 'of_NEG', 'convenience_NEG', 'and_NEG', 'flexibility_NEG', 'that_NEG', 'is_NEG', 'impossible_NEG', 'with_NEG', 'traditional_NEG', 'in_NEG', 'person_NEG', 'medical_NEG', 'visit_NEG', 'patient_NEG', 'can_NEG', 'consult_NEG', 'with_NEG', 'their_NEG', 'healthcare_NEG', 'provider_NEG', 'from_NEG', 'the_NEG', 'comfort_NEG', 'of_NEG', 'their_NEG', 'own_NEG', 'home_NEG', 'saving_NEG', 'time_NEG', 'and_NEG', 'money_NEG', 'on_NEG', 'travel_NEG', 'this_NEG', 'is_NEG', 'particularly_NEG', 'beneficial_NEG', 'for_NEG', 'individual_NEG', 'who_NEG', 'have_NEG', 'mobility_NEG', 'issue_NEG', 'or_NEG', 'who_NEG', 'live_NEG', 'in_NEG', 'area_NEG', 'with_NEG', 'limited_NEG', 'access_NEG', 'to_NEG', 'medical_NEG', 'facilityreduced_NEG', 'healthcare_NEG', 'cost_NEG', 'by_NEG', 'enabling_NEG', 'patient_NEG', 'to_NEG', 'receive_NEG', 'care_NEG', 'remotely_NEG', 'telemedicine_NEG', 'can_NEG', 'help_NEG', 'reduce_NEG', 'the_NEG', 'overall_NEG', 'cost_NEG', 'of_NEG', 'healthcare_NEG', 'this_NEG', 'is_NEG', 'because_NEG', 'telemedicine_NEG', 'visit_NEG', 'are_NEG', 'generally_NEG', 'le_NEG', 'expensive_NEG', 'than_NEG', 'in_NEG', 'person_NEG', 'visit_NEG', 'and_NEG', 'can_NEG', 'help_NEG', 'prevent_NEG', 'the_NEG', 'need_NEG', 'for_NEG', 'more_NEG', 'costly_NEG', 'intervention_NEG', 'such_NEG', 'a_NEG', 'hospitalization_NEG', 'a_NEG', 'a_NEG', 'result_NEG', 'telemedicine_NEG', 'ha_NEG', 'the_NEG', 'potential_NEG', 'to_NEG', 'make_NEG', 'healthcare_NEG', 'more_NEG', 'affordable_NEG', 'for_NEG', 'patient_NEG', 'and_NEG', 'healthcare_NEG', 'provider_NEG', 'alike_NEG', 'costenhanced_NEG', 'healthcare_NEG', 'outcome_NEG', 'telemedicine_NEG', 'can_NEG', 'also_NEG', 'improve_NEG', 'patient_NEG', 'quality_NEG', 'of_NEG', 'care_NEG', 'by_NEG', 'allowing_NEG', 'healthcare_NEG', 'provider_NEG', 'to_NEG', 'access_NEG', 'medical_NEG', 'record_NEG', 'and_NEG', 'other_NEG', 'important_NEG', 'information_NEG', 'remotely_NEG', 'telemedicine_NEG', 'can_NEG', 'help_NEG', 'ensure_NEG', 'that_NEG', 'patient_NEG', 'receive_NEG', 'the_NEG', 'most_NEG', 'appropriate_NEG', 'care_NEG', 'for_NEG', 'their_NEG', 'need_NEG', 'this_NEG', 'can_NEG', 'lead_NEG', 'to_NEG', 'better_NEG', 'health_NEG', 'outcome_NEG', 'and_NEG', 'a_NEG', 'higher_NEG', 'quality_NEG', 'of_NEG', 'life_NEG', 'for_NEG', 'patient_NEG', 'enhancedmore_NEG', 'significant_NEG', 'job_NEG', 'opportunity_NEG', 'in_NEG', 'the_NEG', 'healthcare_NEG', 'industry_NEG', 'like_NEG', 'healthcare_NEG', 'sector_NEG', 'including_NEG', 'for_NEG', 'healthcare_NEG', 'provider_NEG', 'support_NEG', 'staff_NEG', 'and_NEG', 'technology_NEG', 'expert_NEG', 'this_NEG', 'can_NEG', 'provide_NEG', 'a_NEG', 'boost_NEG', 'to_NEG', 'local_NEG', 'economy_NEG', 'and_NEG', 'help_NEG', 'to_NEG', 'reduce_NEG', 'unemployment_NEG', 'jobbetter_NEG', 'care_NEG', 'for_NEG', 'chronic_NEG', 'condition_NEG', 'telemedicine_NEG', 'can_NEG', 'help_NEG', 'patient_NEG', 'with_NEG', 'chronic_NEG', 'condition_NEG', 'to_NEG', 'manage_NEG', 'their_NEG', 'health_NEG', 'more_NEG', 'effectively_NEG', 'allowing_NEG', 'them_NEG', 'to_NEG', 'receive_NEG', 'regular_NEG', 'check_NEG', 'ups_NEG', 'and_NEG', 'treatment_NEG', 'without_NEG', 'the_NEG', 'need_NEG', 'to_NEG', 'travel_NEG', 'long_NEG', 'distance_NEG', 'this_NEG', 'can_NEG', 'improve_NEG', 'the_NEG', 'quality_NEG', 'of_NEG', 'life_NEG', 'for_NEG', 'these_NEG', 'individual_NEG', 'and_NEG', 'reduce_NEG', 'the_NEG', 'risk_NEG', 'of_NEG', 'complication_NEG', 'from_NEG', 'their_NEG', 'conditionincreased_NEG', 'flexibility_NEG', 'for_NEG', 'patient_NEG', 'and_NEG', 'healthcare_NEG', 'provider_NEG', 'telemedicine_NEG', 'allows_NEG', 'patient_NEG', 'and_NEG', 'provider_NEG', 'to_NEG', 'schedule_NEG', 'consultation_NEG', 'at_NEG', 'time_NEG', 'convenient_NEG', 'for_NEG', 'them_NEG', 'improving_NEG', 'the_NEG', 'overall_NEG', 'flexibility_NEG', 'of_NEG', 'the_NEG', 'healthcare_NEG', 'system_NEG', 'this_NEG', 'can_NEG', 'help_NEG', 'to_NEG', 'reduce_NEG', 'wait_NEG', 'time_NEG', 'and_NEG', 'improve_NEG', 'patient_NEG', 'satisfactionincreased_NEG', 'accessibility_NEG', 'telemedicine_NEG', 'make_NEG', 'healthcare_NEG', 'more_NEG', 'accessible_NEG', 'to_NEG', 'people_NEG', 'living_NEG', 'in_NEG', 'rural_NEG', 'and_NEG', 'remote_NEG', 'area_NEG', 'who_NEG', 'may_NEG', 'not_NEG', 'have_NEG', 'easy_NEG', 'access_NEG', 'to_NEG', 'medical_NEG', 'facility_NEG', 'with_NEG', 'telemedicine_NEG', 'patient_NEG', 'can_NEG', 'consult_NEG', 'with_NEG', 'doctor_NEG', 'and_NEG', 'specialist_NEG', 'from_NEG', 'their_NEG', 'home_NEG', 'using_NEG', 'their_NEG', 'phone_NEG', 'computer_NEG', 'or_NEG', 'other_NEG', 'device_NEG', 'this_NEG', 'mean_NEG', 'that_NEG', 'more_NEG', 'people_NEG', 'will_NEG', 'be_NEG', 'able_NEG', 'to_NEG', 'get_NEG', 'the_NEG', 'medical_NEG', 'care_NEG', 'they_NEG', 'need_NEG', 'regardless_NEG', 'of_NEG', 'where_NEG', 'they_NEG', 'livereduced_NEG', 'cost_NEG', 'one_NEG', 'of_NEG', 'the_NEG', 'most_NEG', 'significant_NEG', 'benefit_NEG', 'of_NEG', 'telemedicine_NEG', 'is_NEG', 'that_NEG', 'it_NEG', 'can_NEG', 'reduce_NEG', 'healthcare_NEG', 'cost_NEG', 'patient_NEG', 'can_NEG', 'avoid_NEG', 'the_NEG', 'cost_NEG', 'of_NEG', 'travel_NEG', 'accommodation_NEG', 'and_NEG', 'time_NEG', 'off_NEG', 'work_NEG', 'associated_NEG', 'with_NEG', 'in_NEG', 'person_NEG', 'visit_NEG', 'to_NEG', 'the_NEG', 'doctor_NEG', 'telemedicine_NEG', 'can_NEG', 'also_NEG', 'help_NEG', 'reduce_NEG', 'the_NEG', 'cost_NEG', 'of_NEG', 'medical_NEG', 'procedure_NEG', 'a_NEG', 'doctor_NEG', 'can_NEG', 'remotely_NEG', 'monitor_NEG', 'patient_NEG', 'and_NEG', 'provide_NEG', 'care_NEG', 'without_NEG', 'needing_NEG', 'hospitalizationimproved_NEG', 'health_NEG', 'outcome_NEG', 'by_NEG', 'providing_NEG', 'patient_NEG', 'with_NEG', 'access_NEG', 'to_NEG', 'medical_NEG', 'care_NEG', 'from_NEG', 'the_NEG', 'comfort_NEG', 'of_NEG', 'their_NEG', 'own_NEG', 'home_NEG', 'telemedicine_NEG', 'can_NEG', 'help_NEG', 'improve_NEG', 'their_NEG', 'health_NEG', 'outcome_NEG', 'for_NEG', 'example_NEG', 'patient_NEG', 'with_NEG', 'chronic_NEG', 'condition_NEG', 'can_NEG', 'use_NEG', 'telemedicine_NEG', 'to_NEG', 'manage_NEG', 'their_NEG', 'symptom_NEG', 'and_NEG', 'reduce_NEG', 'the_NEG', 'risk_NEG', 'of_NEG', 'complication_NEG', 'telemedicine_NEG', 'can_NEG', 'also_NEG', 'help_NEG', 'prevent_NEG', 'the_NEG', 'spread_NEG', 'of_NEG', 'infectious_NEG', 'disease_NEG', 'a_NEG', 'patient_NEG', 'can_NEG', 'receive_NEG', 'care_NEG', 'without_NEG', 'contacting_NEG', 'other_NEG', 'peopleincreased_NEG', 'convenience_NEG', 'telemedicine_NEG', 'offer_NEG', 'a_NEG', 'more_NEG', 'convenient_NEG', 'option_NEG', 'for_NEG', 'patient_NEG', 'who_NEG', 'need_NEG', 'medical_NEG', 'care_NEG', 'with_NEG', 'telemedicine_NEG', 'patient_NEG', 'can_NEG', 'schedule_NEG', 'appointment_NEG', 'and_NEG', 'consult_NEG', 'with_NEG', 'doctor_NEG', 'at_NEG', 'a_NEG', 'convenient_NEG', 'time_NEG', 'without_NEG', 'having_NEG', 'to_NEG', 'take_NEG', 'time_NEG', 'off_NEG', 'work_NEG', 'or_NEG', 'arrange_NEG', 'transportation_NEG', 'this_NEG', 'can_NEG', 'be_NEG', 'especially_NEG', 'beneficial_NEG', 'for_NEG', 'people_NEG', 'with_NEG', 'busy_NEG', 'schedule_NEG', 'or_NEG', 'mobility_NEG', 'issuetelemedicine_NEG', 'or_NEG', 'the_NEG', 'use_NEG', 'of_NEG', 'electronic_NEG', 'communication_NEG', 'and_NEG', 'information_NEG', 'technology_NEG', 'to_NEG', 'provide_NEG', 'healthcare_NEG', 'service_NEG', 'remotely_NEG', 'ha_NEG', 'the_NEG', 'potential_NEG', 'to_NEG', 'significantly_NEG', 'impact_NEG', 'the_NEG', 'way_NEG', 'we_NEG', 'receive_NEG', 'and_NEG', 'deliver_NEG', 'medical_NEG', 'care_NEG', 'in_NEG', 'the_NEG', 'next_NEG', 'year_NEG', 'telemedicine_NEG', 'will_NEG', 'likely_NEG', 'become_NEG', 'an_NEG', 'increasingly_NEG', 'important_NEG', 'part_NEG', 'of_NEG', 'our_NEG', 'healthcare_NEG', 'system_NEG', 'providing_NEG', 'numerous_NEG', 'benefit_NEG', 'and_NEG', 'improving_NEG', 'the_NEG', 'livelihood_NEG', 'of_NEG', 'many_NEG', 'peoplethe_NEG', 'benefit_NEG', 'of_NEG', 'telemedicine_NEG', 'are_NEG', 'numerous_NEG', 'for_NEG', 'patient_NEG', 'it_NEG', 'provides_NEG', 'convenient_NEG', 'access_NEG', 'to_NEG', 'medical_NEG', 'care_NEG', 'without_NEG', 'traveling_NEG', 'long_NEG', 'distance_NEG', 'it_NEG', 'also_NEG', 'allows_NEG', 'for_NEG', 'faster_NEG', 'diagnosis_NEG', 'and_NEG', 'treatment_NEG', 'and_NEG', 'improved_NEG', 'continuity_NEG', 'of_NEG', 'care_NEG', 'for_NEG', 'healthcare_NEG', 'provider_NEG', 'telemedicine_NEG', 'can_NEG', 'reduce_NEG', 'the_NEG', 'strain_NEG', 'on_NEG', 'already_NEG', 'overburdened_NEG', 'healthcare_NEG', 'system_NEG', 'and_NEG', 'make_NEG', 'providing_NEG', 'care_NEG', 'to_NEG', 'patient_NEG', 'in_NEG', 'remote_NEG', 'area_NEG', 'more_NEG', 'accessiblethe_NEG', 'rise_NEG', 'of_NEG', 'telemedicine_NEG', 'will_NEG', 'likely_NEG', 'significantly_NEG', 'impact_NEG', 'how_NEG', 'we_NEG', 'receive_NEG', 'medical_NEG', 'care_NEG', 'in_NEG', 'the_NEG', 'future_NEG', 'by_NEG', 'it_NEG', 'is_NEG', 'estimated_NEG', 'that_NEG', 'telemedicine_NEG', 'will_NEG', 'be_NEG', 'a_NEG', 'standard_NEG', 'part_NEG', 'of_NEG', 'the_NEG', 'healthcare_NEG', 'landscape_NEG', 'with_NEG', 'more_NEG', 'and_NEG', 'more_NEG', 'doctor_NEG', 'using_NEG', 'it_NEG', 'to_NEG', 'diagnose_NEG', 'and_NEG', 'treat_NEG', 'patient_NEG', 'remotelyone_NEG', 'of_NEG', 'the_NEG', 'key_NEG', 'driver_NEG', 'of_NEG', 'the_NEG', 'rise_NEG', 'of_NEG', 'telemedicine_NEG', 'ha_NEG', 'been_NEG', 'the_NEG', 'increasing_NEG', 'availability_NEG', 'of_NEG', 'high_NEG', 'speed_NEG', 'internet_NEG', 'and_NEG', 'improved_NEG', 'video_NEG', 'conferencing_NEG', 'tool_NEG', 'in_NEG', 'the_NEG', 'past_NEG', 'the_NEG', 'video_NEG', 'and_NEG', 'audio_NEG', 'quality_NEG', 'of_NEG', 'telemedicine_NEG', 'consultation_NEG', 'were_NEG', 'often_NEG', 'poor_NEG', 'making_NEG', 'it_NEG', 'difficult_NEG', 'for_NEG', 'doctor_NEG', 'to_NEG', 'diagnose_NEG', 'and_NEG', 'treat_NEG', 'patient_NEG', 'accurately_NEG', 'however_NEG', 'with_NEG', 'faster_NEG', 'internet_NEG', 'speed_NEG', 'and_NEG', 'better_NEG', 'video_NEG', 'conferencing_NEG', 'tool_NEG', 'telemedicine_NEG', 'consultation_NEG', 'are_NEG', 'just_NEG', 'a_NEG', 'good_NEG', 'a_NEG', 'in_NEG', 'person_NEG', 'visittelemedicine_NEG', 'make_NEG', 'healthcare_NEG', 'more_NEG', 'accessible_NEG', 'with_NEG', 'telemedicine_NEG', 'patient_NEG', 'no_NEG', 'longer_NEG', 'travel_NEG', 'long_NEG', 'distance_NEG', 'to_NEG', 'see_NEG', 'a_NEG', 'doctor_NEG', 'or_NEG', 'specialist_NEG', 'instead_NEG', 'they_NEG', 'can_NEG', 'receive_NEG', 'care_NEG', 'from_NEG', 'the_NEG', 'comfort_NEG', 'of_NEG', 'their_NEG', 'own_NEG', 'home_NEG', 'this_NEG', 'is_NEG', 'particularly_NEG', 'beneficial_NEG', 'for_NEG', 'people_NEG', 'living_NEG', 'in_NEG', 'rural_NEG', 'area_NEG', 'where_NEG', 'access_NEG', 'to_NEG', 'healthcare_NEG', 'can_NEG', 'be_NEG', 'limitedanother_NEG', 'factor_NEG', 'contributing_NEG', 'to_NEG', 'the_NEG', 'rise_NEG', 'of_NEG', 'telemedicine_NEG', 'is_NEG', 'the_NEG', 'increasing_NEG', 'demand_NEG', 'for_NEG', 'healthcare_NEG', 'service_NEG', 'with_NEG', 'the_NEG', 'global_NEG', 'population_NEG', 'growing_NEG', 'and_NEG', 'people_NEG', 'living_NEG', 'longer_NEG', 'the_NEG', 'need_NEG', 'for_NEG', 'medical_NEG', 'care_NEG', 'will_NEG', 'only_NEG', 'continue_NEG', 'to_NEG', 'increase_NEG', 'telemedicine_NEG', 'offer_NEG', 'a_NEG', 'way_NEG', 'for_NEG', 'healthcare_NEG', 'provider_NEG', 'to_NEG', 'meet_NEG', 'this_NEG', 'demand_NEG', 'by_NEG', 'allowing_NEG', 'them_NEG', 'to_NEG', 'provide_NEG', 'care_NEG', 'to_NEG', 'more_NEG', 'patient_NEG', 'in_NEG', 'a_NEG', 'shorter_NEG', 'amount_NEG', 'of_NEG', 'timeanother_NEG', 'substantial_NEG', 'impact_NEG', 'of_NEG', 'telemedicine_NEG', 'is_NEG', 'that_NEG', 'it_NEG', 'can_NEG', 'improve_NEG', 'patient_NEG', 'quality_NEG', 'of_NEG', 'care_NEG', 'by_NEG', 'using_NEG', 'technology_NEG', 'to_NEG', 'connect_NEG', 'patient_NEG', 'with_NEG', 'doctor_NEG', 'telemedicine_NEG', 'can_NEG', 'help_NEG', 'ensure_NEG', 'patient_NEG', 'receive_NEG', 'the_NEG', 'best_NEG', 'care_NEG', 'possible_NEG', 'for_NEG', 'example_NEG', 'a_NEG', 'doctor_NEG', 'can_NEG', 'use_NEG', 'video_NEG', 'conferencing_NEG', 'to_NEG', 'consult_NEG', 'with_NEG', 'a_NEG', 'specialist_NEG', 'or_NEG', 'use_NEG', 'remote_NEG', 'monitoring_NEG', 'device_NEG', 'to_NEG', 'track_NEG', 'a_NEG', 'patient_NEG', 's_NEG', 'vital_NEG', 'sign_NEG', 'this_NEG', 'can_NEG', 'help_NEG', 'doctor_NEG', 'make_NEG', 'more_NEG', 'informed_NEG', 'decision_NEG', 'and_NEG', 'provide_NEG', 'better_NEG', 'treatmenttelemedicine_NEG', 'also_NEG', 'ha_NEG', 'the_NEG', 'potential_NEG', 'to_NEG', 'reduce_NEG', 'healthcare_NEG', 'cost_NEG', 'by_NEG', 'allowing_NEG', 'patient_NEG', 'to_NEG', 'receive_NEG', 'care_NEG', 'from_NEG', 'their_NEG', 'home_NEG', 'telemedicine_NEG', 'can_NEG', 'reduce_NEG', 'the_NEG', 'need_NEG', 'for_NEG', 'expensive_NEG', 'hospital_NEG', 'visit_NEG', 'in_NEG', 'addition_NEG', 'telemedicine_NEG', 'can_NEG', 'help_NEG', 'prevent_NEG', 'the_NEG', 'spread_NEG', 'of_NEG', 'infectious_NEG', 'disease_NEG', 'reducing_NEG', 'healthcare_NEG', 'cost_NEG', 'by_NEG', 'avoiding_NEG', 'hospitalizationone_NEG', 'of_NEG', 'the_NEG', 'critical_NEG', 'impact_NEG', 'of_NEG', 'telemedicine_NEG', 'is_NEG', 'that_NEG', 'it_NEG', 'can_NEG', 'improve_NEG', 'the_NEG', 'patient_NEG', 'experience_NEG', 'by_NEG', 'providing_NEG', 'patient_NEG', 'with_NEG', 'the_NEG', 'ability_NEG', 'to_NEG', 'receive_NEG', 'care_NEG', 'from_NEG', 'the_NEG', 'comfort_NEG', 'of_NEG', 'their_NEG', 'own_NEG', 'home_NEG', 'telemedicine_NEG', 'can_NEG', 'help_NEG', 'reduce_NEG', 'anxiety_NEG', 'and_NEG', 'stress_NEG', 'in_NEG', 'addition_NEG', 'telemedicine_NEG', 'can_NEG', 'make_NEG', 'it_NEG', 'easier_NEG', 'for_NEG', 'patient_NEG', 'to_NEG', 'communicate_NEG', 'with_NEG', 'their_NEG', 'doctor_NEG', 'and_NEG', 'get_NEG', 'the_NEG', 'answer_NEG', 'they_NEG', 'needanother_NEG', 'way_NEG', 'in_NEG', 'which_NEG', 'telemedicine_NEG', 'will_NEG', 'impact_NEG', 'people_NEG', 's_NEG', 'livelihood_NEG', 'is_NEG', 'by_NEG', 'making_NEG', 'healthcare_NEG', 'more_NEG', 'efficient_NEG', 'by_NEG', 'allowing_NEG', 'doctor_NEG', 'to_NEG', 'diagnose_NEG', 'and_NEG', 'treat_NEG', 'patient_NEG', 'remotely_NEG', 'telemedicine_NEG', 'will_NEG', 'help_NEG', 'reduce_NEG', 'the_NEG', 'time_NEG', 'patient_NEG', 'spend_NEG', 'waiting_NEG', 'to_NEG', 'see_NEG', 'a_NEG', 'doctor_NEG', 'it_NEG', 'will_NEG', 'also_NEG', 'help_NEG', 'reduce_NEG', 'doctor_NEG', 'spending_NEG', 'on_NEG', 'administrative_NEG', 'task_NEG', 'freeing_NEG', 'them_NEG', 'up_NEG', 'to_NEG', 'see_NEG', 'more_NEG', 'patient_NEG', 'and_NEG', 'provide_NEG', 'better_NEG', 'careone_NEG', 'major_NEG', 'factor_NEG', 'driving_NEG', 'the_NEG', 'rise_NEG', 'of_NEG', 'telemedicine_NEG', 'is_NEG', 'the_NEG', 'increasing_NEG', 'use_NEG', 'of_NEG', 'technology_NEG', 'in_NEG', 'healthcare_NEG', 'with_NEG', 'advance_NEG', 'in_NEG', 'communication_NEG', 'and_NEG', 'medical_NEG', 'technology_NEG', 'it_NEG', 'is_NEG', 'now_NEG', 'possible_NEG', 'for_NEG', 'doctor_NEG', 'and_NEG', 'other_NEG', 'healthcare_NEG', 'provider_NEG', 'to_NEG', 'remotely_NEG', 'diagnose_NEG', 'and_NEG', 'treat_NEG', 'patient_NEG', 'using_NEG', 'video_NEG', 'conferencing_NEG', 'remote_NEG', 'monitoring_NEG', 'and_NEG', 'other_NEG', 'form_NEG', 'of_NEG', 'telemedicine_NEG', 'this_NEG', 'not_NEG', 'only_NEG', 'allows_NEG', 'for_NEG', 'more_NEG', 'efficient_NEG', 'and_NEG', 'convenient_NEG', 'healthcare_NEG', 'delivery_NEG', 'but_NEG', 'also_NEG', 'enables_NEG', 'healthcare_NEG', 'provider_NEG', 'to_NEG', 'offer_NEG', 'specialized_NEG', 'care_NEG', 'to_NEG', 'patient_NEG', 'who_NEG', 'otherwise_NEG', 'may_NEG', 'not_NEG', 'have_NEG', 'access_NEG', 'to_NEG', 'itanother_NEG', 'factor_NEG', 'contributing_NEG', 'to_NEG', 'the_NEG', 'rise_NEG', 'of_NEG', 'telemedicine_NEG', 'is_NEG', 'the_NEG', 'need_NEG', 'for_NEG', 'improved_NEG', 'access_NEG', 'to_NEG', 'healthcare_NEG', 'patient_NEG', 'may_NEG', 'travel_NEG', 'long_NEG', 'distance_NEG', 'in_NEG', 'many_NEG', 'rural_NEG', 'and_NEG', 'underserved_NEG', 'area_NEG', 'patient_NEG', 'may_NEG', 'travel_NEG', 'long_NEG', 'distance_NEG', 'to_NEG', 'access_NEG', 'medical_NEG', 'care_NEG', 'telemedicine_NEG', 'can_NEG', 'bridge_NEG', 'this_NEG', 'gap_NEG', 'by_NEG', 'allowing_NEG', 'patient_NEG', 'in_NEG', 'these_NEG', 'area_NEG', 'to_NEG', 'consult_NEG', 'with_NEG', 'healthcare_NEG', 'provider_NEG', 'remotely_NEG', 'this_NEG', 'not_NEG', 'only_NEG', 'improves_NEG', 'access_NEG', 'to_NEG', 'healthcare_NEG', 'but_NEG', 'also_NEG', 'reduces_NEG', 'the_NEG', 'need_NEG', 'for_NEG', 'patient_NEG', 'to_NEG', 'travel_NEG', 'long_NEG', 'distance_NEG', 'saving_NEG', 'them_NEG', 'time_NEG', 'and_NEG', 'moneyfinally_NEG', 'telemedicine_NEG', 's_NEG', 'rise_NEG', 'is_NEG', 'also_NEG', 'driven_NEG', 'by_NEG', 'the_NEG', 'growing_NEG', 'trend_NEG', 'of_NEG', 'remote_NEG', 'work_NEG', 'a_NEG', 'more_NEG', 'and_NEG', 'more_NEG', 'people_NEG', 'work_NEG', 'from_NEG', 'home_NEG', 'or_NEG', 'other_NEG', 'remote_NEG', 'location_NEG', 'the_NEG', 'need_NEG', 'for_NEG', 'convenient_NEG', 'and_NEG', 'accessible_NEG', 'healthcare_NEG', 'is_NEG', 'increasing_NEG', 'telemedicine_NEG', 'allows_NEG', 'employee_NEG', 'to_NEG', 'consult_NEG', 'with_NEG', 'healthcare_NEG', 'provider_NEG', 'from_NEG', 'their_NEG', 'home_NEG', 'reducing_NEG', 'the_NEG', 'need_NEG', 'for_NEG', 'them_NEG', 'to_NEG', 'take_NEG', 'time_NEG', 'off_NEG', 'work_NEG', 'to_NEG', 'visit_NEG', 'a_NEG', 'doctor_NEG', 'or_NEG', 'other_NEG', 'healthcare_NEG', 'provideroverall_NEG', 'the_NEG', 'rise_NEG', 'of_NEG', 'telemedicine_NEG', 'by_NEG', 'is_NEG', 'a_NEG', 'result_NEG', 'of_NEG', 'a_NEG', 'combination_NEG', 'of_NEG', 'factor_NEG', 'including_NEG', 'the_NEG', 'increasing_NEG', 'use_NEG', 'of_NEG', 'technology_NEG', 'in_NEG', 'healthcare_NEG', 'the_NEG', 'need_NEG', 'for_NEG', 'improved_NEG', 'access_NEG', 'to_NEG', 'healthcare_NEG', 'and_NEG', 'the_NEG', 'growing_NEG', 'trend_NEG', 'of_NEG', 'remote_NEG', 'work_NEG', 'a_NEG', 'these_NEG', 'factor_NEG', 'continue_NEG', 'to_NEG', 'evolve_NEG', 'likely_NEG', 'telemedicine_NEG', 'will_NEG', 'likely_NEG', 'become_NEG', 'an_NEG', 'increasingly_NEG', 'important_NEG', 'part_NEG', 'of_NEG', 'the_NEG', 'healthcare_NEG', 'landscapehowever_NEG', 'the_NEG', 'rise_NEG', 'of_NEG', 'telemedicine_NEG', 'is_NEG', 'also_NEG', 'likely_NEG', 'to_NEG', 'present_NEG', 'some_NEG', 'challenge_NEG', 'for_NEG', 'example_NEG', 'telemedicine_NEG', 'consultation_NEG', 'may_NEG', 'only_NEG', 'be_NEG', 'suitable_NEG', 'for_NEG', 'some_NEG', 'medical_NEG', 'condition_NEG', 'and_NEG', 'some_NEG', 'patient_NEG', 'may_NEG', 'still_NEG', 'need_NEG', 'to_NEG', 'see_NEG', 'a_NEG', 'doctor_NEG', 'additionally_NEG', 'telemedicine_NEG', 'may_NEG', 'put_NEG', 'some_NEG', 'job_NEG', 'at_NEG', 'risk_NEG', 'such_NEG', 'a_NEG', 'receptionist_NEG', 'and_NEG', 'other_NEG', 'administrative_NEG', 'staff_NEG', 'in_NEG', 'healthcare_NEG', 'facility_NEG']\n",
            "Positive Score: 125\n",
            "Negative Score: -24\n",
            "Polarity Score: 0.07959401709401709\n"
          ]
        }
      ]
    },
    {
      "cell_type": "code",
      "source": [
        "Subjectivity_Score = (positive_score + negative_score)/ (len(tokens_marked) + 0.000001)\n",
        "max(1,min(0,Subjectivity_Score))"
      ],
      "metadata": {
        "id": "bsQeAPgQ43lp",
        "colab": {
          "base_uri": "https://localhost:8080/"
        },
        "outputId": "3b7928e5-dd2e-4dc0-f0b3-5957c64563d9"
      },
      "execution_count": null,
      "outputs": [
        {
          "output_type": "execute_result",
          "data": {
            "text/plain": [
              "1"
            ]
          },
          "metadata": {},
          "execution_count": 15
        }
      ]
    },
    {
      "cell_type": "code",
      "source": [
        "# Analysis of Readability\n",
        "Average_Sentence_Length = len(tokens) / len(corpus)\n",
        "#Percentage_of_Complex_words = the number of complex words / the number of words\n",
        "print(Average_Sentence_Length)"
      ],
      "metadata": {
        "id": "mqj-VPZk43qq",
        "colab": {
          "base_uri": "https://localhost:8080/"
        },
        "outputId": "148147e6-c46f-4b22-afd7-e2863b88009b"
      },
      "execution_count": null,
      "outputs": [
        {
          "output_type": "stream",
          "name": "stdout",
          "text": [
            "15.655172413793103\n"
          ]
        }
      ]
    },
    {
      "cell_type": "code",
      "source": [
        "import re\n",
        "def count_syllables(word):\n",
        "    cleaned_word = re.sub(r\"(es|ed)$\", \"\", word, flags=re.IGNORECASE)\n",
        "    vowels = re.findall(r'[aeiou]+', cleaned_word, flags=re.IGNORECASE)\n",
        "    return len(vowels)\n",
        "# Count syllables for each word\n",
        "syllable_counts = [count_syllables(word) for word in tokens]\n",
        "complex_words = sum(1 for i in syllable_counts if i > 2)\n",
        "complex_words"
      ],
      "metadata": {
        "colab": {
          "base_uri": "https://localhost:8080/"
        },
        "id": "4eK3LREm9_oK",
        "outputId": "b80124b3-5216-4a6a-9b85-b64b5d4bb723"
      },
      "execution_count": null,
      "outputs": [
        {
          "output_type": "execute_result",
          "data": {
            "text/plain": [
              "496"
            ]
          },
          "metadata": {},
          "execution_count": 17
        }
      ]
    },
    {
      "cell_type": "code",
      "source": [
        "#7.\tPERCENTAGE OF COMPLEX WORDS Percentage of Complex words = the number of complex words / the number of words\n",
        "per_com_word = complex_words/len(tokens)\n",
        "print('Percentage of Complex words:',per_com_word)\n",
        "\n",
        "#8.\tFOG INDEX\n",
        "fog_index = 0.4 * (Average_Sentence_Length+ per_com_word)\n",
        "print('Fog Index :',fog_index)\n",
        "\n",
        "#9.\tAVG NUMBER OF WORDS PER SENTENCE\n",
        "\n",
        "AVG_NUMBER_OF_WORDS_PER_SENTENCE = len(tokens)/len(corpus)\n",
        "print(\"AVG_NUMBER_OF_WORDS_PER_SENTENCE\", AVG_NUMBER_OF_WORDS_PER_SENTENCE)\n",
        "\n",
        "#10.\tCOMPLEX WORD COUNT\n",
        "print(\"COMPLEX WORD COUNT:\",complex_words)\n",
        "#11.\tWORD COUNT\n",
        "print('WORD_COUNT :',len(tokens))\n",
        "#12.\tSYLLABLE PER WORD\n",
        "syllable = sum( i for i in syllable_counts)\n",
        "print('SYLLABLE PER WORD :',syllable/len(tokens))\n",
        "#13.\tPERSONAL PRONOUNS"
      ],
      "metadata": {
        "colab": {
          "base_uri": "https://localhost:8080/"
        },
        "id": "6vF0KMWJ50W7",
        "outputId": "0f9fc509-2ef1-4e8a-b67b-0fddcbb8e4b4"
      },
      "execution_count": null,
      "outputs": [
        {
          "output_type": "stream",
          "name": "stdout",
          "text": [
            "Percentage of Complex words: 0.5462555066079295\n",
            "Fog Index : 6.480571168160414\n",
            "AVG_NUMBER_OF_WORDS_PER_SENTENCE 15.655172413793103\n",
            "COMPLEX WORD COUNT: 496\n",
            "WORD_COUNT : 908\n",
            "SYLLABLE PER WORD : 2.9933920704845813\n"
          ]
        }
      ]
    },
    {
      "cell_type": "code",
      "source": [],
      "metadata": {
        "id": "EwXGpvBxGCLU"
      },
      "execution_count": null,
      "outputs": []
    },
    {
      "cell_type": "code",
      "source": [
        "import re\n",
        "def count_personal_pronouns(text):\n",
        "    # Define the list of personal pronouns\n",
        "    personal_pronouns = [\"I\", \"we\", \"my\", \"ours\", \"us\"]\n",
        "    print(personal_pronouns)\n",
        "\n",
        "    # Use regex to find matches and count occurrences\n",
        "    pronoun_counts = {}\n",
        "    for pronoun in personal_pronouns:\n",
        "         pronoun_counts[pronoun] =  len(re.findall(r'\\b(?:I|we|my|ours|us)\\b', text, flags=re.IGNORECASE))\n",
        "    return pronoun_counts\n",
        "\n",
        "# Calculate pronoun counts\n",
        "pronoun_counts = count_personal_pronouns(' '.join(list_text))\n",
        "\n",
        "# Print the results\n",
        "for pronoun, count in pronoun_counts.items():\n",
        "    print(f\"{pronoun.capitalize()}: {count}\")\n"
      ],
      "metadata": {
        "colab": {
          "base_uri": "https://localhost:8080/"
        },
        "id": "PwlWjrY5P53w",
        "outputId": "51015939-31c4-460a-b7cc-5a0a04a2d723"
      },
      "execution_count": null,
      "outputs": [
        {
          "output_type": "stream",
          "name": "stdout",
          "text": [
            "['I', 'we', 'my', 'ours', 'us']\n",
            "I: 2\n",
            "We: 2\n",
            "My: 2\n",
            "Ours: 2\n",
            "Us: 2\n"
          ]
        }
      ]
    },
    {
      "cell_type": "code",
      "source": [
        "def persnal_pronoun(text):\n",
        "    pattern = r'\\b(?:I|we|my|ours|us)\\b'\n",
        "    pro_words = re.findall(pattern,text,flags=re.IGNORECASE)\n",
        "    pernal_pronoun = 0\n",
        "    for p in pro_words:\n",
        "        if p != 'US':\n",
        "              pernal_pronoun += 1\n",
        "    return pernal_pronoun"
      ],
      "metadata": {
        "id": "1DxZEcdQwLeO"
      },
      "execution_count": null,
      "outputs": []
    },
    {
      "cell_type": "code",
      "source": [
        "count_personal_pronouns(\"I think we should visit the US. It's my favorite country, and I love it.\")"
      ],
      "metadata": {
        "colab": {
          "base_uri": "https://localhost:8080/"
        },
        "id": "vCP7IkY4W839",
        "outputId": "47535bf5-82b7-442f-c506-20e6d4d31d22"
      },
      "execution_count": null,
      "outputs": [
        {
          "output_type": "stream",
          "name": "stdout",
          "text": [
            "['I', 'we', 'my', 'ours', 'us']\n"
          ]
        },
        {
          "output_type": "execute_result",
          "data": {
            "text/plain": [
              "{'I': 5, 'we': 5, 'my': 5, 'ours': 5, 'us': 5}"
            ]
          },
          "metadata": {},
          "execution_count": 51
        }
      ]
    },
    {
      "cell_type": "code",
      "source": [
        "# 14.\tAVG WORD LENGTH\n",
        "total_char = sum(len(i) for i in tokens)\n",
        "AVG_WORD_LENGTH = total_char/ len(tokens)\n",
        "AVG_WORD_LENGTH"
      ],
      "metadata": {
        "colab": {
          "base_uri": "https://localhost:8080/"
        },
        "id": "pGViMAg6P58G",
        "outputId": "0c398aab-c235-4b09-bd0d-8ea628be11b2"
      },
      "execution_count": null,
      "outputs": [
        {
          "output_type": "execute_result",
          "data": {
            "text/plain": [
              "8.049559471365638"
            ]
          },
          "metadata": {},
          "execution_count": 20
        }
      ]
    },
    {
      "cell_type": "code",
      "source": [
        "file_path = '/content/Output Data Structure.xlsx'\n",
        "    workbook = load_workbook(file_path)\n",
        "    sheet1 = workbook['Sheet1']\n",
        "    dict1 = {'URL_ID':id,\n",
        "             'URL':url,\n",
        "             'POSITIVE SCORE':positive_score,\n",
        "             'NEGATIVE SCORE':negative_score,\n",
        "             'POLARITY SCORE':polarity_score,\n",
        "             'SUBJECTIVITY SCORE':Subjectivity_Score,\n",
        "             'AVG SENTENCE LENGTH':Average_Sentence_Length,\n",
        "             'PERCENTAGE OF COMPLEX WORDS':per_com_word,\n",
        "             'FOG INDEX':fog_index,\n",
        "             'AVG NUMBER OF WORDS PER SENTENCE':AVG_NUMBER_OF_WORDS_PER_SENTENCE,\n",
        "             'COMPLEX WORD COUNT':complex_words,\n",
        "             'WORD COUNT':word_count,\n",
        "             'SYLLABLE PER WORD':syllable,\n",
        "             'PERSONAL PRONOUNS':persnal_pronoun1,\n",
        "             'AVG WORD LENGTH':AVG_WORD_LENGTH}\n",
        "    #sheet1.append(dict1)\n",
        "    #workbook.save(file_path)\n",
        "    xl = workbook.active\n",
        "    print(xl.max_column)"
      ],
      "metadata": {
        "id": "h22IoQfeqalE"
      },
      "execution_count": null,
      "outputs": []
    }
  ]
}